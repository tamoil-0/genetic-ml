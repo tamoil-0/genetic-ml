{
 "cells": [
  {
   "cell_type": "markdown",
   "id": "80b7cb2e",
   "metadata": {},
   "source": [
    "# Bloque 1 — Feature Selection con GA\n",
    "Usa **DEAP** + **LogisticRegression** con CV.\n"
   ]
  },
  {
   "cell_type": "code",
   "execution_count": null,
   "id": "16f23c1d",
   "metadata": {},
   "outputs": [
    {
     "data": {
      "text/plain": [
       "71"
      ]
     },
     "execution_count": 5,
     "metadata": {},
     "output_type": "execute_result"
    }
   ],
   "source": [
    "# --- Imports base ---\n",
    "import numpy as np\n",
    "import random, os, joblib\n",
    "import matplotlib.pyplot as plt\n",
    "\n",
    "from sklearn.pipeline import Pipeline\n",
    "from sklearn.preprocessing import StandardScaler\n",
    "from sklearn.linear_model import LogisticRegression, Ridge\n",
    "from sklearn.model_selection import cross_val_score, StratifiedKFold, KFold\n",
    "\n",
    "from deap import base, creator, tools\n",
    "\n",
    "from utils.data import load_custom_csv          # <— tu loader\n",
    "from utils.ga_tools import set_seed, cv_score, penalty_k\n",
    "\n",
    "# --- Fijar semilla para reproducibilidad ---\n",
    "set_seed(42)\n",
    "\n",
    "# --- Carga tu dataset propio ---\n",
    "# target=\"producto\" => CLASIFICACIÓN (predecir Producto_Regional)\n",
    "# target=\"indice\"   => REGRESIÓN (predecir Índice_Industrialización)\n",
    "X_train, X_test, y_train, y_test, feature_names, problem_type = load_custom_csv(\n",
    "    \"data/productos_puno.csv\",\n",
    "    target=\"producto\",      # ← cambia a \"indice\" si quieres regresión\n",
    "    test_size=0.2,\n",
    "    random_state=42,\n",
    "    scale=False             # MUY IMPORTANTE: escalamos dentro de la CV con Pipeline\n",
    ")\n",
    "\n",
    "n_features = X_train.shape[1]\n",
    "n_features\n"
   ]
  },
  {
   "cell_type": "markdown",
   "id": "469071a1",
   "metadata": {},
   "source": [
    "## Configuración del GA"
   ]
  },
  {
   "cell_type": "code",
   "execution_count": 4,
   "id": "cdf66187",
   "metadata": {},
   "outputs": [],
   "source": [
    "# Hiperparámetros GA (valores recomendados)\n",
    "POP_SIZE = 50\n",
    "N_GEN    = 50\n",
    "CX_PB    = 0.8     # prob. de aplicar crossover\n",
    "MUT_PB   = 0.2     # prob. de aplicar mutación\n",
    "INDPB    = max(1/n_features, 0.01)  # prob. flip por gen (~1 bit de media)\n",
    "TOUR_SIZE = 3\n",
    "ALPHA     = 0.005  # penalización por número de features\n",
    "ELITISM   = 1      # nº de élites que pasan directos a la siguiente generación\n",
    "\n",
    "def make_estimator():\n",
    "    \"\"\"\n",
    "    Estimador del fitness con Pipeline(scaler, modelo).\n",
    "    - Clasificación: LogisticRegression\n",
    "    - Regresión: Ridge\n",
    "    \"\"\"\n",
    "    if problem_type == \"classification\":\n",
    "        return Pipeline([\n",
    "            (\"scaler\", StandardScaler()),\n",
    "            (\"clf\", LogisticRegression(max_iter=2000, solver=\"lbfgs\"))\n",
    "        ])\n",
    "    else:\n",
    "        return Pipeline([\n",
    "            (\"scaler\", StandardScaler()),\n",
    "            (\"reg\", Ridge(alpha=1.0))\n",
    "        ])\n",
    "\n",
    "def ensure_one_active(individual):\n",
    "    \"\"\"Asegura que al menos 1 feature esté encendida (evita máscara toda-cero).\"\"\"\n",
    "    if sum(individual) == 0:\n",
    "        idx = random.randrange(len(individual))\n",
    "        individual[idx] = 1\n"
   ]
  },
  {
   "cell_type": "markdown",
   "id": "ef119988",
   "metadata": {},
   "source": [
    "## DEAP: espacio de búsqueda y fitness"
   ]
  },
  {
   "cell_type": "code",
   "execution_count": null,
   "id": "1762bee2",
   "metadata": {},
   "outputs": [],
   "source": [
    "# Definir tipos en DEAP\n",
    "creator.create(\"FitnessMax\", base.Fitness, weights=(1.0,))   # maximizamos el fitness\n",
    "creator.create(\"Individual\", list, fitness=creator.FitnessMax)\n",
    "\n",
    "toolbox = base.Toolbox()\n",
    "toolbox.register(\"attr_bool\", random.randint, 0, 1)  # gen binario\n",
    "toolbox.register(\"individual\", tools.initRepeat, creator.Individual, toolbox.attr_bool, n=n_features)\n",
    "toolbox.register(\"population\", tools.initRepeat, list, toolbox.individual)\n",
    "\n",
    "def eval_individual(individual):\n",
    "    \"\"\"Fitness = métrica CV del estimador solo con las columnas activas – penalización por #features.\"\"\"\n",
    "    ensure_one_active(individual)\n",
    "    mask = np.array(individual, dtype=bool)\n",
    "    k = int(mask.sum())\n",
    "    X_sel = X_train[:, mask]\n",
    "\n",
    "    est = make_estimator()\n",
    "\n",
    "    if problem_type == \"classification\":\n",
    "        cv = StratifiedKFold(n_splits=5, shuffle=True, random_state=42)\n",
    "        # cambia a \"balanced_accuracy\" o \"f1_macro\" si tienes desbalance\n",
    "        score = cross_val_score(est, X_sel, y_train, cv=cv, scoring=\"accuracy\").mean()\n",
    "        fit = score - penalty_k(k, ALPHA)\n",
    "    else:\n",
    "        cv = KFold(n_splits=5, shuffle=True, random_state=42)\n",
    "        # neg_root_mean_squared_error: más alto es mejor (0 es el tope)\n",
    "        score = cross_val_score(est, X_sel, y_train, cv=cv, scoring=\"neg_root_mean_squared_error\").mean()\n",
    "        fit = score - penalty_k(k, ALPHA)  # como es negativo, “más cerca de 0” ⇒ mayor fitness\n",
    "\n",
    "    return (float(fit),)\n",
    "\n",
    "# Operadores GA\n",
    "toolbox.register(\"evaluate\", eval_individual)\n",
    "toolbox.register(\"mate\", tools.cxOnePoint)                       # cruce 1 punto\n",
    "toolbox.register(\"mutate\", tools.mutFlipBit, indpb=INDPB)        # mutación flip bit\n",
    "toolbox.register(\"select\", tools.selTournament, tournsize=TOUR_SIZE)  # torneo\n"
   ]
  },
  {
   "cell_type": "markdown",
   "id": "85dff141",
   "metadata": {},
   "source": [
    "## Evolución"
   ]
  },
  {
   "cell_type": "code",
   "execution_count": null,
   "id": "b4ca1392",
   "metadata": {},
   "outputs": [],
   "source": [
    "# Población inicial y evaluación\n",
    "pop = toolbox.population(n=POP_SIZE)\n",
    "\n",
    "for ind in pop:\n",
    "    ind.fitness.values = toolbox.evaluate(ind)\n",
    "\n",
    "log = []  # guardaremos estadísticas por generación\n",
    "\n",
    "for gen in range(N_GEN):\n",
    "    # Elitismo: mejores que pasan directos\n",
    "    elites = tools.selBest(pop, ELITISM) if ELITISM > 0 else []\n",
    "\n",
    "    # Selección + clonación\n",
    "    offspring = toolbox.select(pop, len(pop) - ELITISM)\n",
    "    offspring = list(map(toolbox.clone, offspring))\n",
    "\n",
    "    # Crossover\n",
    "    for i in range(0, len(offspring), 2):\n",
    "        if i + 1 < len(offspring) and random.random() < CX_PB:\n",
    "            toolbox.mate(offspring[i], offspring[i+1])\n",
    "            if \"fitness\" in offspring[i].__dict__: del offspring[i].fitness.values\n",
    "            if \"fitness\" in offspring[i+1].__dict__: del offspring[i+1].fitness.values\n",
    "\n",
    "    # Mutación\n",
    "    for i in range(len(offspring)):\n",
    "        if random.random() < MUT_PB:\n",
    "            toolbox.mutate(offspring[i])\n",
    "            if \"fitness\" in offspring[i].__dict__: del offspring[i].fitness.values\n",
    "\n",
    "    # Re-evaluar hijos inválidos\n",
    "    invalid = [ind for ind in offspring if not ind.fitness.valid]\n",
    "    for ind in invalid:\n",
    "        ind.fitness.values = toolbox.evaluate(ind)\n",
    "\n",
    "    # Nueva población\n",
    "    pop = elites + offspring\n",
    "\n",
    "    # Stats de la generación\n",
    "    fits = np.array([ind.fitness.values[0] for ind in pop], dtype=float)\n",
    "    log.append({\n",
    "        \"gen\": gen + 1,\n",
    "        \"avg\": float(fits.mean()),\n",
    "        \"min\": float(fits.min()),\n",
    "        \"max\": float(fits.max())\n",
    "    })\n",
    "\n",
    "# Mejor individuo final\n",
    "best = tools.selBest(pop, 1)[0]\n",
    "best_mask = np.array(best, dtype=bool)\n",
    "best_k = int(best_mask.sum())\n",
    "best_fitness = float(best.fitness.values[0])\n",
    "\n",
    "best_k, best_fitness\n"
   ]
  },
  {
   "cell_type": "markdown",
   "id": "6e98e2d7",
   "metadata": {},
   "source": [
    "## Resultados y comparación"
   ]
  },
  {
   "cell_type": "code",
   "execution_count": null,
   "id": "5ef1123a",
   "metadata": {},
   "outputs": [],
   "source": [
    "# Baseline: TODAS las features (CV)\n",
    "est_all = make_estimator()\n",
    "\n",
    "if problem_type == \"classification\":\n",
    "    cv_all = StratifiedKFold(n_splits=5, shuffle=True, random_state=42)\n",
    "    baseline_cv = cross_val_score(est_all, X_train, y_train, cv=cv_all, scoring=\"accuracy\").mean()\n",
    "else:\n",
    "    cv_all = KFold(n_splits=5, shuffle=True, random_state=42)\n",
    "    baseline_cv = cross_val_score(est_all, X_train, y_train, cv=cv_all, scoring=\"neg_root_mean_squared_error\").mean()\n",
    "\n",
    "# Seleccionadas por GA\n",
    "X_sel = X_train[:, best_mask]\n",
    "est_sel = make_estimator()\n",
    "\n",
    "if problem_type == \"classification\":\n",
    "    selected_cv = cross_val_score(est_sel, X_sel, y_train, cv=cv_all, scoring=\"accuracy\").mean()\n",
    "else:\n",
    "    selected_cv = cross_val_score(est_sel, X_sel, y_train, cv=cv_all, scoring=\"neg_root_mean_squared_error\").mean()\n",
    "\n",
    "selected_features = list(feature_names[best_mask])\n",
    "\n",
    "print(f\"Features seleccionadas (k={best_k}):\")\n",
    "for f in selected_features:\n",
    "    print(\" -\", f)\n",
    "\n",
    "print(\"\\nMétrica CV\")\n",
    "if problem_type == \"classification\":\n",
    "    print(f\"Baseline (todas, accuracy): {baseline_cv:.4f}\")\n",
    "    print(f\"Seleccionadas (accuracy):   {selected_cv:.4f}\")\n",
    "else:\n",
    "    print(f\"Baseline (todas, -RMSE): {baseline_cv:.4f}  (más cerca de 0 es mejor)\")\n",
    "    print(f\"Seleccionadas (-RMSE):   {selected_cv:.4f}  (más cerca de 0 es mejor)\")\n"
   ]
  },
  {
   "cell_type": "markdown",
   "id": "03dad57b",
   "metadata": {},
   "source": [
    "## Curva de mejor fitness por generación"
   ]
  },
  {
   "cell_type": "code",
   "execution_count": null,
   "id": "a2793cb0",
   "metadata": {},
   "outputs": [],
   "source": [
    "gens = [r[\"gen\"] for r in log]\n",
    "best_curve = [r[\"max\"] for r in log]\n",
    "\n",
    "plt.figure()\n",
    "plt.plot(gens, best_curve, marker=\"o\")\n",
    "plt.xlabel(\"Generación\")\n",
    "plt.ylabel(\"Mejor fitness\")\n",
    "plt.title(\"Evolución del mejor fitness\")\n",
    "plt.grid(True)\n",
    "plt.show()\n"
   ]
  },
  {
   "cell_type": "markdown",
   "id": "8589899e",
   "metadata": {},
   "source": [
    "## Guardado opcional con joblib"
   ]
  },
  {
   "cell_type": "code",
   "execution_count": null,
   "id": "71d70cba",
   "metadata": {},
   "outputs": [],
   "source": [
    "os.makedirs(\"results\", exist_ok=True)\n",
    "\n",
    "out = {\n",
    "    \"problem_type\": problem_type,\n",
    "    \"best_mask\": best_mask,\n",
    "    \"selected_features\": selected_features,\n",
    "    \"best_fitness\": best_fitness,\n",
    "    \"baseline_cv\": float(baseline_cv),\n",
    "    \"selected_cv\": float(selected_cv),\n",
    "    \"log\": log,\n",
    "    \"ga_params\": {\n",
    "        \"POP_SIZE\": POP_SIZE, \"N_GEN\": N_GEN, \"CX_PB\": CX_PB,\n",
    "        \"MUT_PB\": MUT_PB, \"INDPB\": INDPB, \"TOUR_SIZE\": TOUR_SIZE,\n",
    "        \"ALPHA\": ALPHA, \"ELITISM\": ELITISM\n",
    "    }\n",
    "}\n",
    "\n",
    "joblib.dump(out, \"results/bloque1_selection.joblib\")\n",
    "\"Guardado en results/bloque1_selection.joblib\"\n"
   ]
  }
 ],
 "metadata": {
  "kernelspec": {
   "display_name": "Python 3 (ipykernel)",
   "language": "python",
   "name": "python3"
  },
  "language_info": {
   "codemirror_mode": {
    "name": "ipython",
    "version": 3
   },
   "file_extension": ".py",
   "mimetype": "text/x-python",
   "name": "python",
   "nbconvert_exporter": "python",
   "pygments_lexer": "ipython3",
   "version": "3.10.0"
  }
 },
 "nbformat": 4,
 "nbformat_minor": 5
}
