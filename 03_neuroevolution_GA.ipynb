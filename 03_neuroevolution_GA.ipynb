{
  "cells": [
    {
      "cell_type": "markdown",
      "metadata": {},
      "source": "# Placeholder notebook"
    },
    {
      "cell_type": "markdown",
      "metadata": {},
      "source": "Rellena en Bloque 2/3 según el plan del proyecto."
    }
  ],
  "metadata": {
    "kernelspec": {
      "name": "python3",
      "display_name": "Python 3"
    },
    "language_info": {
      "name": "python",
      "pygments_lexer": "ipython3"
    }
  },
  "nbformat": 4,
  "nbformat_minor": 5
}